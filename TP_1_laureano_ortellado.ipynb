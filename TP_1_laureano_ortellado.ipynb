{
 "cells": [
  {
   "cell_type": "markdown",
   "metadata": {},
   "source": [
    "# Trabajo Practico 1: cuarteto de Anscombe\n",
    "### Laureano Ortellado\n"
   ]
  },
  {
   "cell_type": "code",
   "execution_count": 7,
   "metadata": {},
   "outputs": [],
   "source": [
    "#valores de tabla\n",
    "x_1 = [10.0,8.0,13.0,9.0,11.0,14.0,6.0,4.0,12.0,7.0,5.0]\n",
    "y_1 = [8.04,6.95,7.58,8.81,8.33,9.96,7.24,4.26,10.84,4.82,5.68]\n",
    "x_2 = [10.0,8.0,13.0,9.0,11.0,14.0,6.0,4.0,12.0,7.0,5.0]\n",
    "y_2 = [9.14,8.14,8.74,8.77,9.26,8.10,6.13,3.10,9.13,7.26,4.74]\n",
    "x_3 =[10.0,8.0,13.0,9.0,11.0,14.0,6.0,4.0,12.0,7.0,5.0]\n",
    "y_3 =[7.46,6.77,12.74,7.11,7.81,8.84,6.08,5.39,8.15,6.42,5.73]\n",
    "x_4 = [8.0,8.0,8.0,8.0,8.0,8.0,8.0,19.0,8.0,8.0,8.0]\n",
    "y_4 = [6.58,5.76,7.71,8.84,8.47,7.04,5.25,12.50,5.56,7.91,6.89]"
   ]
  },
  {
   "cell_type": "code",
   "execution_count": 5,
   "metadata": {},
   "outputs": [],
   "source": [
    "import matplotlib.pyplot as plt"
   ]
  },
  {
   "cell_type": "code",
   "execution_count": 9,
   "metadata": {},
   "outputs": [
    {
     "data": {
      "image/png": "[encoded data removed]",
      "text/plain": [
       "<Figure size 432x288 with 4 Axes>"
      ]
     },
     "metadata": {
      "needs_background": "light"
     },
     "output_type": "display_data"
    }
   ],
   "source": [
    "plt.figure()\n",
    "\n",
    "#primer plot\n",
    "plt.subplot(221)\n",
    "plt.scatter(x_1,y_1)\n",
    "\n",
    "#segundo\n",
    "plt.subplot(222)\n",
    "plt.scatter(x_2,y_2)\n",
    "\n",
    "#tercero\n",
    "plt.subplot(223)\n",
    "plt.scatter(x_3,y_3)\n",
    "\n",
    "#cuarto\n",
    "plt.subplot(224)\n",
    "plt.scatter(x_4,y_4)\n",
    "\n",
    "plt.show()"
   ]
  },
  {
   "cell_type": "markdown",
   "metadata": {},
   "source": [
    "A pesar de tener los mismos parámetros estadísticos, el primer gráfico parece representar una recta con disperción. El segundo se asemeja a una curva, como una cuadrática. El tercero parece ser una recta con un punto palanca al igual que el cuarto cuyo recta parece estar sobre el eje y. Podemos agregar los puntos extras, con distintos colores para ver como encajan \"a ojo\""
   ]
  },
  {
   "cell_type": "code",
   "execution_count": 14,
   "metadata": {},
   "outputs": [
    {
     "data": {
      "image/png": "[encoded data removed]",
      "text/plain": [
       "<Figure size 432x288 with 4 Axes>"
      ]
     },
     "metadata": {
      "needs_background": "light"
     },
     "output_type": "display_data"
    }
   ],
   "source": [
    "plt.figure()\n",
    "\n",
    "#primer plot\n",
    "plt.subplot(221)\n",
    "plt.scatter(x_1,y_1)\n",
    "\n",
    "#puntos extras\n",
    "plt.scatter(16,8,c='g')\n",
    "plt.scatter(8,6,c='black')\n",
    "plt.scatter(16,10,c='r')\n",
    "plt.scatter(16,16,c='orange')\n",
    "\n",
    "\n",
    "#segundo\n",
    "plt.subplot(222)\n",
    "plt.scatter(x_2,y_2)\n",
    "#puntos extras\n",
    "plt.scatter(16,8,c='g')\n",
    "plt.scatter(8,6,c='black')\n",
    "plt.scatter(16,10,c='r')\n",
    "plt.scatter(16,16,c='orange')\n",
    "\n",
    "#tercero\n",
    "plt.subplot(223)\n",
    "plt.scatter(x_3,y_3)\n",
    "#puntos extras\n",
    "plt.scatter(16,8,c='g')\n",
    "plt.scatter(8,6,c='black')\n",
    "plt.scatter(16,10,c='r')\n",
    "plt.scatter(16,16,c='orange')\n",
    "\n",
    "#cuarto\n",
    "plt.subplot(224)\n",
    "plt.scatter(x_4,y_4)\n",
    "#puntos extras\n",
    "plt.scatter(16,8,c='g')\n",
    "plt.scatter(8,6,c='black')\n",
    "plt.scatter(16,10,c='r')\n",
    "plt.scatter(16,16,c='orange')\n",
    "\n",
    "plt.show()"
   ]
  },
  {
   "cell_type": "markdown",
   "metadata": {},
   "source": [
    "De la figura anterior podemos observar el punto negro parece pertencer a la cuarta tabla. La tercer tabla parece encajar con el punto rojo, tambien, pero en menor medida, el verde. La segunda tabla parece contener el punto verde, y en menor medida el rojo. La primera tabla pareciera contener a todos los puntos. Aunque el naranja parece mas alejado de la regresion lineal hipotetica de la primer tabla, por descarte parece encajar mejor en este grafico, ya que en el resto no parece tener ninguna relacion con el punto naranja. Siendo así, esto quedaría:"
   ]
  },
  {
   "cell_type": "code",
   "execution_count": 15,
   "metadata": {},
   "outputs": [
    {
     "data": {
      "image/png": "[encoded data removed]",
      "text/plain": [
       "<Figure size 432x288 with 4 Axes>"
      ]
     },
     "metadata": {
      "needs_background": "light"
     },
     "output_type": "display_data"
    }
   ],
   "source": [
    "plt.figure()\n",
    "\n",
    "#primer plot\n",
    "plt.subplot(221)\n",
    "plt.scatter(x_1,y_1)\n",
    "\n",
    "#puntos extras\n",
    "plt.scatter(16,16,c='orange')\n",
    "\n",
    "\n",
    "#segundo\n",
    "plt.subplot(222)\n",
    "plt.scatter(x_2,y_2)\n",
    "#puntos extras\n",
    "plt.scatter(16,8,c='g')\n",
    "\n",
    "#tercero\n",
    "plt.subplot(223)\n",
    "plt.scatter(x_3,y_3)\n",
    "#puntos extras\n",
    "plt.scatter(16,10,c='r')\n",
    "\n",
    "#cuarto\n",
    "plt.subplot(224)\n",
    "plt.scatter(x_4,y_4)\n",
    "#puntos extras\n",
    "plt.scatter(8,6,c='black')\n",
    "\n",
    "plt.show()"
   ]
  },
  {
   "cell_type": "markdown",
   "metadata": {},
   "source": [
    "na forma que se me ocurre de poder automatizar para determinar a que punto corresponde sería:\n",
    "Los dos últimos gráficos estan afectados por algún punto palanca que afecta a los parametros estadisticos. Para esto habría que eliminar UN punto de la tabla original (los puntos azules) y realizar una regresion (no necesariamente lineal). Si se repite esto con todos los puntos de la tabla, en algun momento eliminaría a el punto palanca y eso aumentaría el coeficiente de determinación \"r cuadrado\" de la regresion, permitiendo identificar al punto palanca para eliminarlo. Si agrego los puntos extras, ahora buscaria el que menos aumente el coeficiente de determinación de la regresion. \n",
    "El segundo grafico posiblemente requiera probar con regresiones de funciones de ordenes mayores a las lineales para identificar la curva correcta. Seleccionaria la regresion de menor orden que muestre un reduccion sustancial en el coeficiente de determinación. De nuevo, utilizaria esta regresion para encontar el punto extra que menos aumente el coeficiente de determinación.\n",
    "Claramente, el punto naranja, no es el que menos reduce el coeficiente de determinación (el rojo o el verde lo harian mejor) pero en comparación con las otras tablas, pareciera encajar por descarte. Para lidiar con esto, probaria con todas las convinaciones posibles asignando a cada tabla un punto extra distinto y eligiria la combinación cuya suma del coeficiente de determinación de cada una de las tablas con los puntos extras sea menor."
   ]
  },
  {
   "cell_type": "code",
   "execution_count": null,
   "metadata": {},
   "outputs": [],
   "source": []
  }
 ],
 "metadata": {
  "kernelspec": {
   "display_name": "Python 3",
   "language": "python",
   "name": "python3"
  },
  "language_info": {
   "codemirror_mode": {
    "name": "ipython",
    "version": 3
   },
   "file_extension": ".py",
   "mimetype": "text/x-python",
   "name": "python",
   "nbconvert_exporter": "python",
   "pygments_lexer": "ipython3",
   "version": "3.7.1"
  }
 },
 "nbformat": 4,
 "nbformat_minor": 2
}
